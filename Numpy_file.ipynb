{
 "cells": [
  {
   "cell_type": "code",
   "execution_count": 1,
   "id": "47b1042f-5912-4842-bd4b-803d37e3c804",
   "metadata": {
    "tags": []
   },
   "outputs": [],
   "source": [
    "import numpy as np\n",
    "import sys\n",
    "import time"
   ]
  },
  {
   "cell_type": "code",
   "execution_count": 2,
   "id": "d3f95b08-25e8-4bc0-b608-a2879220937b",
   "metadata": {
    "tags": []
   },
   "outputs": [
    {
     "name": "stdout",
     "output_type": "stream",
     "text": [
      "[ 1  2 54  6  6  4  8 56 36]\n"
     ]
    }
   ],
   "source": [
    "arr = np.array([1,2,54,6,6,4,8,56,36])\n",
    "print(arr)"
   ]
  },
  {
   "cell_type": "code",
   "execution_count": 3,
   "id": "3ed60b16-aa08-4842-b168-baa304d12290",
   "metadata": {
    "tags": []
   },
   "outputs": [
    {
     "data": {
      "text/plain": [
       "numpy.ndarray"
      ]
     },
     "execution_count": 3,
     "metadata": {},
     "output_type": "execute_result"
    }
   ],
   "source": [
    "type(arr)"
   ]
  },
  {
   "cell_type": "code",
   "execution_count": 3,
   "id": "b489b41d-a393-4e9c-a980-25a19809d867",
   "metadata": {
    "tags": []
   },
   "outputs": [],
   "source": [
    "arr1 = np.array([[1,2,3],[4,5,6]])"
   ]
  },
  {
   "cell_type": "code",
   "execution_count": 4,
   "id": "7b5182ea-c1b6-4fbe-bde9-da2741946e18",
   "metadata": {
    "tags": []
   },
   "outputs": [
    {
     "data": {
      "text/plain": [
       "array([[ 3,  6,  9],\n",
       "       [12, 15, 18]])"
      ]
     },
     "execution_count": 4,
     "metadata": {},
     "output_type": "execute_result"
    }
   ],
   "source": [
    "arr1*3"
   ]
  },
  {
   "cell_type": "code",
   "execution_count": 5,
   "id": "67124d8f-465d-4e28-907b-db049cd1e18a",
   "metadata": {
    "tags": []
   },
   "outputs": [
    {
     "data": {
      "text/plain": [
       "array([ 6,  7, 59, 11, 11,  9, 13, 61, 41])"
      ]
     },
     "execution_count": 5,
     "metadata": {},
     "output_type": "execute_result"
    }
   ],
   "source": [
    "arr+5"
   ]
  },
  {
   "cell_type": "code",
   "execution_count": 7,
   "id": "eb58b768-9724-404d-8f2b-49235fcccc82",
   "metadata": {
    "tags": []
   },
   "outputs": [
    {
     "data": {
      "text/plain": [
       "array([ 1,  2, 54,  6,  6,  4,  8, 56, 36])"
      ]
     },
     "execution_count": 7,
     "metadata": {},
     "output_type": "execute_result"
    }
   ],
   "source": [
    "arr"
   ]
  },
  {
   "cell_type": "code",
   "execution_count": 15,
   "id": "cf006ec0-7dce-4206-91bf-1e9fb59a5a84",
   "metadata": {
    "tags": []
   },
   "outputs": [
    {
     "data": {
      "text/plain": [
       "array([0., 0., 0., 0., 0., 0.])"
      ]
     },
     "execution_count": 15,
     "metadata": {},
     "output_type": "execute_result"
    }
   ],
   "source": [
    "np.zeros(6)"
   ]
  },
  {
   "cell_type": "code",
   "execution_count": 12,
   "id": "cae59f53-e39b-462d-a22c-4204324b11c0",
   "metadata": {
    "tags": []
   },
   "outputs": [
    {
     "data": {
      "text/plain": [
       "array([1., 1., 1., 1., 1.])"
      ]
     },
     "execution_count": 12,
     "metadata": {},
     "output_type": "execute_result"
    }
   ],
   "source": [
    "np.ones(5)"
   ]
  },
  {
   "cell_type": "code",
   "execution_count": 13,
   "id": "a4b170ab-592a-4631-befe-1260b5205c1c",
   "metadata": {
    "tags": []
   },
   "outputs": [
    {
     "data": {
      "text/plain": [
       "array([0., 0., 0., 0., 0., 0.])"
      ]
     },
     "execution_count": 13,
     "metadata": {},
     "output_type": "execute_result"
    }
   ],
   "source": [
    "np.empty(6)"
   ]
  },
  {
   "cell_type": "code",
   "execution_count": 16,
   "id": "fa6990a2-7147-4ded-93d3-12a5bc82ee4f",
   "metadata": {
    "tags": []
   },
   "outputs": [
    {
     "data": {
      "text/plain": [
       "array([[0, 0, 0, 0],\n",
       "       [0, 0, 0, 0],\n",
       "       [0, 0, 0, 0]])"
      ]
     },
     "execution_count": 16,
     "metadata": {},
     "output_type": "execute_result"
    }
   ],
   "source": [
    "np.full((3,4),0)"
   ]
  },
  {
   "cell_type": "code",
   "execution_count": 19,
   "id": "da3cd509-b88d-4c68-803e-9ebc33a39618",
   "metadata": {
    "tags": []
   },
   "outputs": [
    {
     "data": {
      "text/plain": [
       "array([ 0,  8, 16, 24])"
      ]
     },
     "execution_count": 19,
     "metadata": {},
     "output_type": "execute_result"
    }
   ],
   "source": [
    "np.arange(0,25,8)"
   ]
  },
  {
   "cell_type": "code",
   "execution_count": 6,
   "id": "6ab00a7f-9fad-4302-b991-6b8a1bb1b9ee",
   "metadata": {
    "tags": []
   },
   "outputs": [
    {
     "data": {
      "text/plain": [
       "array([ 0.        ,  1.42857143,  2.85714286,  4.28571429,  5.71428571,\n",
       "        7.14285714,  8.57142857, 10.        , 11.42857143, 12.85714286,\n",
       "       14.28571429, 15.71428571, 17.14285714, 18.57142857, 20.        ])"
      ]
     },
     "execution_count": 6,
     "metadata": {},
     "output_type": "execute_result"
    }
   ],
   "source": [
    "np.linspace(0,20,15)"
   ]
  },
  {
   "cell_type": "code",
   "execution_count": 13,
   "id": "15248670-9b40-4705-9c31-d28090affd91",
   "metadata": {
    "tags": []
   },
   "outputs": [
    {
     "data": {
      "text/plain": [
       "array([4, 5, 2, 3, 5], dtype=int32)"
      ]
     },
     "execution_count": 13,
     "metadata": {},
     "output_type": "execute_result"
    }
   ],
   "source": [
    "np.random.randint(2,10,5)"
   ]
  },
  {
   "cell_type": "code",
   "execution_count": 17,
   "id": "f356bb88-e9f2-4d72-b494-6ae0ed4c316a",
   "metadata": {
    "tags": []
   },
   "outputs": [
    {
     "data": {
      "text/plain": [
       "array([[0.11293691, 0.88622082],\n",
       "       [0.05954274, 0.15395386]])"
      ]
     },
     "execution_count": 17,
     "metadata": {},
     "output_type": "execute_result"
    }
   ],
   "source": [
    "np.random.random((2,2))"
   ]
  },
  {
   "cell_type": "code",
   "execution_count": 18,
   "id": "6b6c2f2e-0e27-4516-9694-058a3326533c",
   "metadata": {
    "tags": []
   },
   "outputs": [
    {
     "data": {
      "text/plain": [
       "np.float64(21.54982741760117)"
      ]
     },
     "execution_count": 18,
     "metadata": {},
     "output_type": "execute_result"
    }
   ],
   "source": [
    "np.std(arr)"
   ]
  },
  {
   "cell_type": "code",
   "execution_count": 19,
   "id": "4ff88618-9465-48b0-8582-50508da6bcf3",
   "metadata": {
    "tags": []
   },
   "outputs": [
    {
     "data": {
      "text/plain": [
       "np.float64(19.22222222222222)"
      ]
     },
     "execution_count": 19,
     "metadata": {},
     "output_type": "execute_result"
    }
   ],
   "source": [
    "np.mean(arr)"
   ]
  },
  {
   "cell_type": "code",
   "execution_count": 20,
   "id": "1d91bd59-ebaf-4655-a569-49dd5b6a7492",
   "metadata": {
    "tags": []
   },
   "outputs": [
    {
     "data": {
      "text/plain": [
       "np.int64(1)"
      ]
     },
     "execution_count": 20,
     "metadata": {},
     "output_type": "execute_result"
    }
   ],
   "source": [
    "np.min(arr)"
   ]
  },
  {
   "cell_type": "code",
   "execution_count": 21,
   "id": "69328bc3-3f59-45c5-b55d-3c418e51859d",
   "metadata": {
    "tags": []
   },
   "outputs": [
    {
     "data": {
      "text/plain": [
       "np.int64(56)"
      ]
     },
     "execution_count": 21,
     "metadata": {},
     "output_type": "execute_result"
    }
   ],
   "source": [
    "np.max(arr)"
   ]
  },
  {
   "cell_type": "code",
   "execution_count": 22,
   "id": "30b5c9f2-37f6-4070-9673-1b3b06e5817b",
   "metadata": {
    "tags": []
   },
   "outputs": [
    {
     "data": {
      "text/plain": [
       "array([1.        , 1.41421356, 7.34846923, 2.44948974, 2.44948974,\n",
       "       2.        , 2.82842712, 7.48331477, 6.        ])"
      ]
     },
     "execution_count": 22,
     "metadata": {},
     "output_type": "execute_result"
    }
   ],
   "source": [
    "np.sqrt(arr)"
   ]
  },
  {
   "cell_type": "code",
   "execution_count": 32,
   "id": "c286864d-ed47-4459-a044-c99686d3f09f",
   "metadata": {
    "tags": []
   },
   "outputs": [],
   "source": [
    "# arr = np.array([1,2,3,4,5,6,7,8,9,10])\n",
    "li = [i for i in range(1,1000000)]\n",
    "arr = np.array(li)\n",
    "a = np.array([])\n",
    "l = []"
   ]
  },
  {
   "cell_type": "code",
   "execution_count": 27,
   "id": "87234347-a4c7-4bcc-9d31-2d7420b15aa3",
   "metadata": {
    "tags": []
   },
   "outputs": [
    {
     "data": {
      "text/plain": [
       "56"
      ]
     },
     "execution_count": 27,
     "metadata": {},
     "output_type": "execute_result"
    }
   ],
   "source": [
    "sys.getsizeof(l)"
   ]
  },
  {
   "cell_type": "code",
   "execution_count": 33,
   "id": "5cfd5363-3deb-4cb0-abd8-e78aab0080d4",
   "metadata": {
    "tags": []
   },
   "outputs": [
    {
     "data": {
      "text/plain": [
       "8448728"
      ]
     },
     "execution_count": 33,
     "metadata": {},
     "output_type": "execute_result"
    }
   ],
   "source": [
    "sys.getsizeof(li)\n",
    "#112\n"
   ]
  },
  {
   "cell_type": "code",
   "execution_count": 35,
   "id": "1450b542-1cc5-4e4d-88bb-06c871932680",
   "metadata": {
    "tags": []
   },
   "outputs": [
    {
     "data": {
      "text/plain": [
       "8000104"
      ]
     },
     "execution_count": 35,
     "metadata": {},
     "output_type": "execute_result"
    }
   ],
   "source": [
    "sys.getsizeof(arr)\n",
    "#56\n"
   ]
  },
  {
   "cell_type": "code",
   "execution_count": 39,
   "id": "16b625b3-56d5-4c7f-94b0-38357e693f27",
   "metadata": {
    "tags": []
   },
   "outputs": [
    {
     "data": {
      "text/plain": [
       "8104"
      ]
     },
     "execution_count": 39,
     "metadata": {},
     "output_type": "execute_result"
    }
   ],
   "source": [
    "sys.getsizeof(arr)"
   ]
  },
  {
   "cell_type": "code",
   "execution_count": 38,
   "id": "e0451360-9f56-4e83-b7aa-753d0928132a",
   "metadata": {
    "tags": []
   },
   "outputs": [
    {
     "data": {
      "text/plain": [
       "8448728"
      ]
     },
     "execution_count": 38,
     "metadata": {},
     "output_type": "execute_result"
    }
   ],
   "source": [
    "sys.getsizeof(li)"
   ]
  },
  {
   "cell_type": "code",
   "execution_count": 36,
   "id": "f77dd7a9-3e8a-4283-ba01-5fe4ddca0f12",
   "metadata": {},
   "outputs": [
    {
     "name": "stdout",
     "output_type": "stream",
     "text": [
      "6.709945440292358\n"
     ]
    }
   ],
   "source": [
    "list_1 = [i for i in range(10000000)]\n",
    "list_2 = [i for i in range(10000000)]\n",
    "list_3 = [0 for i in range(10000000)]\n",
    "start = time.time()\n",
    "\n",
    "for i in range(len(list_1)):\n",
    "    list_3[i] = list_1[i] + list_2[i]\n",
    "end = time.time()\n",
    "\n",
    "total = end - start\n",
    "print(total)"
   ]
  },
  {
   "cell_type": "code",
   "execution_count": 37,
   "id": "1e01be8a-d7ec-4887-86f0-f975b36135a9",
   "metadata": {},
   "outputs": [
    {
     "name": "stdout",
     "output_type": "stream",
     "text": [
      "0.09543442726135254\n"
     ]
    }
   ],
   "source": [
    "arr_1 = np.array(list_1)\n",
    "arr_2 = np.array(list_2)\n",
    "start = time.time()\n",
    "arr_3 = arr_1 + arr_2\n",
    "end = time.time()\n",
    "total = end - start\n",
    "\n",
    "print(total)"
   ]
  },
  {
   "cell_type": "code",
   "execution_count": null,
   "id": "bea027cf-82f3-43af-b46f-d9ee394d9169",
   "metadata": {},
   "outputs": [],
   "source": []
  }
 ],
 "metadata": {
  "kernelspec": {
   "display_name": "Python 3 (ipykernel)",
   "language": "python",
   "name": "python3"
  },
  "language_info": {
   "codemirror_mode": {
    "name": "ipython",
    "version": 3
   },
   "file_extension": ".py",
   "mimetype": "text/x-python",
   "name": "python",
   "nbconvert_exporter": "python",
   "pygments_lexer": "ipython3",
   "version": "3.11.5"
  }
 },
 "nbformat": 4,
 "nbformat_minor": 5
}
